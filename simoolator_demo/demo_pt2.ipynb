{
 "cells": [
  {
   "cell_type": "markdown",
   "metadata": {},
   "source": [
    "# Import package"
   ]
  },
  {
   "cell_type": "code",
   "execution_count": 1,
   "metadata": {},
   "outputs": [],
   "source": [
    "import simoolator as moo\n"
   ]
  },
  {
   "cell_type": "markdown",
   "metadata": {},
   "source": [
    "# 1. Load Herd from File"
   ]
  },
  {
   "cell_type": "code",
   "execution_count": 2,
   "metadata": {},
   "outputs": [],
   "source": [
    "herd = moo.Herd.load('./demo_herd.pkl')\n"
   ]
  },
  {
   "cell_type": "code",
   "execution_count": 8,
   "metadata": {},
   "outputs": [],
   "source": [
    "for cow in herd.cows_in_herd:\n",
    "    cow.input"
   ]
  },
  {
   "cell_type": "code",
   "execution_count": 3,
   "metadata": {},
   "outputs": [
    {
     "name": "stdout",
     "output_type": "stream",
     "text": [
      "Index | Cow ID\n",
      "0     | cow_1\n",
      "1     | cow_2\n",
      "2     | cow_3\n",
      "3     | cow_4\n",
      "4     | cow_5\n",
      "5     | cow_6\n",
      "6     | cow_7\n",
      "7     | cow_8\n",
      "8     | cow_9\n",
      "9     | cow_10\n",
      "Result ID                 | Results\n",
      "model1_2024-05-27         | 1555.5555555555554\n"
     ]
    }
   ],
   "source": [
    "herd.list_cows()\n",
    "herd.list_results(0)"
   ]
  },
  {
   "cell_type": "markdown",
   "metadata": {},
   "source": [
    "# 2. Run Models on Loaded Herd"
   ]
  },
  {
   "cell_type": "code",
   "execution_count": 4,
   "metadata": {},
   "outputs": [],
   "source": [
    "herd.execute_model('model2')\n",
    "herd.execute_model('model3')\n"
   ]
  },
  {
   "cell_type": "code",
   "execution_count": 5,
   "metadata": {},
   "outputs": [
    {
     "name": "stdout",
     "output_type": "stream",
     "text": [
      "Result ID                 | Results\n",
      "model1_2024-05-27         | 1262.2222222222222\n",
      "model2_2024-05-27         | [6959.375, 9047.1875, 16452.8125]\n",
      "model3_2024-05-27         | {'total_calories': 13035, 'calories_per_kg': 18.359154929577464}\n"
     ]
    }
   ],
   "source": [
    "herd.list_results(4)\n"
   ]
  },
  {
   "cell_type": "code",
   "execution_count": 6,
   "metadata": {},
   "outputs": [
    {
     "name": "stdout",
     "output_type": "stream",
     "text": [
      "{'total_calories': 13035, 'calories_per_kg': 18.359154929577464}\n"
     ]
    }
   ],
   "source": [
    "data = herd.get_result(4, 'model3_2024-05-27')\n",
    "print(data)\n"
   ]
  }
 ],
 "metadata": {
  "kernelspec": {
   "display_name": "simoolator",
   "language": "python",
   "name": "python3"
  },
  "language_info": {
   "codemirror_mode": {
    "name": "ipython",
    "version": 3
   },
   "file_extension": ".py",
   "mimetype": "text/x-python",
   "name": "python",
   "nbconvert_exporter": "python",
   "pygments_lexer": "ipython3",
   "version": "3.12.3"
  }
 },
 "nbformat": 4,
 "nbformat_minor": 2
}
