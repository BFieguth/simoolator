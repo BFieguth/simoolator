{
 "cells": [
  {
   "cell_type": "markdown",
   "metadata": {},
   "source": [
    "# Import Package"
   ]
  },
  {
   "cell_type": "code",
   "execution_count": 2,
   "metadata": {},
   "outputs": [],
   "source": [
    "import simoolator as moo\n"
   ]
  },
  {
   "cell_type": "markdown",
   "metadata": {},
   "source": [
    "# 1. Herd Creation "
   ]
  },
  {
   "cell_type": "markdown",
   "metadata": {},
   "source": [
    "## Using the add_cow Method"
   ]
  },
  {
   "cell_type": "code",
   "execution_count": 9,
   "metadata": {},
   "outputs": [
    {
     "name": "stdout",
     "output_type": "stream",
     "text": [
      "Index | Cow ID\n",
      "0     | cow_1\n",
      "1     | cow_2\n",
      "2     | cow_3\n",
      "3     | cow_4\n"
     ]
    }
   ],
   "source": [
    "import random\n",
    "\n",
    "demo_herd = moo.Herd('demo_herd_creation')\n",
    "\n",
    "for num in range(1, 5):\n",
    "    demo_herd.add_cow(moo.Cow(cow_id=f'cow_{num}', input_data={'data': num * random.randint(2, 6)}))\n",
    "\n",
    "demo_herd.list_cows()\n"
   ]
  },
  {
   "cell_type": "markdown",
   "metadata": {},
   "source": [
    "## Create from JSON"
   ]
  },
  {
   "cell_type": "code",
   "execution_count": 3,
   "metadata": {},
   "outputs": [
    {
     "name": "stdout",
     "output_type": "stream",
     "text": [
      "cow_1: Moo\n",
      "cow_2: Mooooooo\n",
      "cow_3: Mooooooo\n",
      "cow_4: Moooooooooo\n",
      "cow_5: Moooo\n",
      "cow_6: Moo\n",
      "cow_7: Mooooooo\n",
      "cow_8: Mooooooooo\n",
      "cow_9: Mooooooooo\n",
      "cow_10: Moooo\n"
     ]
    }
   ],
   "source": [
    "herd = moo.Herd('create_herd_from_json')\n",
    "herd.load_cows_from_json('./demo_herd.json')\n",
    "\n",
    "herd.execute_method('moo')\n"
   ]
  },
  {
   "cell_type": "markdown",
   "metadata": {},
   "source": [
    "# 2. Running Models"
   ]
  },
  {
   "cell_type": "code",
   "execution_count": 4,
   "metadata": {},
   "outputs": [],
   "source": [
    "def model1(weight, height, age):\n",
    "    bmi = weight / (height ** 2)\n",
    "    adjusted_bmi = bmi * age\n",
    "    return adjusted_bmi\n",
    "\n",
    "def model2(energy_intake, activity_level, weight, height):\n",
    "    bmr = 10 * weight + 6.25 * height - 5 * 30\n",
    "    tdee = bmr * activity_level\n",
    "    caloric_balance = energy_intake - tdee\n",
    "    return [bmr, tdee, caloric_balance]\n",
    "\n",
    "def model3(protein_intake, carb_intake, fat_intake, weight):\n",
    "    total_calories = (protein_intake * 4) + (carb_intake * 4) + (fat_intake * 9)\n",
    "    calories_per_kg = total_calories / weight\n",
    "    return {'total_calories': total_calories, 'calories_per_kg': calories_per_kg}\n"
   ]
  },
  {
   "cell_type": "code",
   "execution_count": 5,
   "metadata": {},
   "outputs": [
    {
     "name": "stdout",
     "output_type": "stream",
     "text": [
      "\n",
      "The following Cows failed to run the model: \n",
      "cow_1: unsupported operand type(s) for /: 'str' and 'float'\n"
     ]
    }
   ],
   "source": [
    "herd.register_model(model1)\n",
    "herd.register_model(model2)\n",
    "herd.register_model(model3)\n",
    "\n",
    "herd.execute_model('model1')\n"
   ]
  },
  {
   "cell_type": "code",
   "execution_count": 14,
   "metadata": {},
   "outputs": [
    {
     "name": "stdout",
     "output_type": "stream",
     "text": [
      "Cow ID: cow_1, Output: {'model1_2024-05-27': 1555.5555555555554}\n",
      "cow_1: Moo\n",
      "\n",
      "\n",
      "Cow ID: cow_2, Output: {'model1_2024-05-27': 1198.7513007284078}\n",
      "cow_2: Mooo\n",
      "\n",
      "\n",
      "Cow ID: cow_3, Output: {'model1_2024-05-27': 2112.244897959184}\n",
      "cow_3: Mooooo\n",
      "\n",
      "\n",
      "Cow ID: cow_4, Output: {'model1_2024-05-27': 1425.7812499999998}\n",
      "cow_4: Mooo\n",
      "\n",
      "\n",
      "Cow ID: cow_5, Output: {'model1_2024-05-27': 1262.2222222222222}\n",
      "cow_5: Mooo\n",
      "\n",
      "\n",
      "Cow ID: cow_6, Output: {'model1_2024-05-27': 815.4269972451791}\n",
      "cow_6: Moooo\n",
      "\n",
      "\n",
      "Cow ID: cow_7, Output: {'model1_2024-05-27': 1940.5469678953625}\n",
      "cow_7: Moooooooo\n",
      "\n",
      "\n",
      "Cow ID: cow_8, Output: {'model1_2024-05-27': 788.9273356401385}\n",
      "cow_8: Moooooooo\n",
      "\n",
      "\n",
      "Cow ID: cow_9, Output: {'model1_2024-05-27': 1555.5555555555554}\n",
      "cow_9: Moo\n",
      "\n",
      "\n",
      "Cow ID: cow_10, Output: {'model1_2024-05-27': 1198.7513007284078}\n",
      "cow_10: Moooooo\n",
      "\n",
      "\n"
     ]
    }
   ],
   "source": [
    "for cow in herd.cows_in_herd:\n",
    "    print(f\"Cow ID: {cow.cow_id}, Output: {cow.results}\")\n",
    "    cow.moo()\n",
    "    print('\\n')\n",
    "    "
   ]
  },
  {
   "cell_type": "markdown",
   "metadata": {},
   "source": [
    "# 3. Save a Herd"
   ]
  },
  {
   "cell_type": "code",
   "execution_count": 15,
   "metadata": {},
   "outputs": [],
   "source": [
    "herd.save('./demo_herd.pkl')\n"
   ]
  }
 ],
 "metadata": {
  "kernelspec": {
   "display_name": "simoolator",
   "language": "python",
   "name": "python3"
  },
  "language_info": {
   "codemirror_mode": {
    "name": "ipython",
    "version": 3
   },
   "file_extension": ".py",
   "mimetype": "text/x-python",
   "name": "python",
   "nbconvert_exporter": "python",
   "pygments_lexer": "ipython3",
   "version": "3.12.3"
  }
 },
 "nbformat": 4,
 "nbformat_minor": 2
}
