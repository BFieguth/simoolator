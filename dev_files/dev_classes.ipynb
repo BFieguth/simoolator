{
 "cells": [
  {
   "cell_type": "markdown",
   "metadata": {},
   "source": [
    "# Define ModelRegistry"
   ]
  },
  {
   "cell_type": "code",
   "execution_count": 1,
   "metadata": {},
   "outputs": [],
   "source": [
    "import inspect\n",
    "\n",
    "class ModelRegistry:\n",
    "    def __init__(self):\n",
    "        self.models = {}\n",
    "\n",
    "    def register_model(self, model_function, input_structure):\n",
    "        input_mapping = self._determine_input_mapping(model_function, input_structure)\n",
    "        self.models[model_function.__name__] = {\n",
    "            'function': model_function,\n",
    "            'input_mapping': input_mapping\n",
    "        }\n",
    "\n",
    "    def _determine_input_mapping(self, model_function, input_structure):\n",
    "        def find_paths(input_structure, keys):\n",
    "            \"\"\"Find the paths to the keys in a nested dictionary.\"\"\"\n",
    "            paths = {}\n",
    "\n",
    "            def recursive_search(current_structure, current_path):\n",
    "                if isinstance(current_structure, dict):\n",
    "                    for key, value in current_structure.items():\n",
    "                        new_path = current_path + [key]\n",
    "                        if key in keys:\n",
    "                            paths[key] = '.'.join(new_path)\n",
    "                            keys.remove(key)\n",
    "                        if isinstance(value, dict) and keys:\n",
    "                            recursive_search(value, new_path)\n",
    "\n",
    "            recursive_search(input_structure, [])\n",
    "            return paths\n",
    "\n",
    "        # Extract argument names from the model function\n",
    "        signature = inspect.signature(model_function)\n",
    "        keys = list(signature.parameters.keys())\n",
    "        # Find paths to these keys in the input_structure\n",
    "        input_mapping = find_paths(input_structure, keys)\n",
    "        return input_mapping\n",
    "    \n",
    "    def get_model(self, model_name):\n",
    "        if model_name not in self.models:\n",
    "            raise ValueError(f\"Model {model_name} not registered.\")\n",
    "        return self.models[model_name]['function'], self.models[model_name]['input_mapping']\n"
   ]
  },
  {
   "cell_type": "markdown",
   "metadata": {},
   "source": [
    "# Define Cow Class"
   ]
  },
  {
   "cell_type": "code",
   "execution_count": 2,
   "metadata": {},
   "outputs": [],
   "source": [
    "import random\n",
    "import time\n",
    "import numpy as np\n",
    "from datetime import datetime\n",
    "\n",
    "class Cow:\n",
    "    def __init__(self, cow_id, input_data):\n",
    "        self.cow_id = str(cow_id)\n",
    "        self.input = input_data\n",
    "        self.results = {}\n",
    "        self.metadata = {}\n",
    "\n",
    "    def __getstate__(self):\n",
    "        state = {\n",
    "            'cow_id': self.cow_id,\n",
    "            'input': self.input,\n",
    "            'results': self.results,\n",
    "            'metadata': self.metadata\n",
    "        }\n",
    "        return state\n",
    "    \n",
    "    def __setstate__(self, state):\n",
    "        self.cow_id = state['cow_id']\n",
    "        self.input = state['input']\n",
    "        self.results = state['results']\n",
    "        self.metadata = state['metadata']\n",
    "\n",
    "    def run_model(self, model_function, input_mapping):\n",
    "        start_time = datetime.now()\n",
    "        result_id = f'{model_function.__name__}_{start_time.date()}'\n",
    "        inputs = {key: self._get_nested_value(value) for key, value in input_mapping.items()}\n",
    "        result = model_function(**inputs)\n",
    "        end_time = datetime.now()\n",
    "        self.results[result_id] = result\n",
    "\n",
    "        metadata_entry = {\n",
    "            'model_name': model_function.__name__,\n",
    "            'start_time': start_time,\n",
    "            'end_time': end_time\n",
    "        }\n",
    "        self.metadata[result_id] = metadata_entry\n",
    "\n",
    "    def _get_nested_value(self, path):\n",
    "        keys = path.split('.')\n",
    "        value = self.input\n",
    "        for key in keys:\n",
    "            value = value[key]\n",
    "        return value\n",
    "    \n",
    "    def _list_results(self):\n",
    "        print('Result ID'.ljust(25), '| Results')\n",
    "        for result_id, data in self.results.items():\n",
    "            print(f'{result_id}'.ljust(25), f'| {data}') \n",
    "    \n",
    "    def _get_result(self, result_id):\n",
    "        return self.results[result_id]\n",
    "\n",
    "    def _print_input_structure(self):\n",
    "        def print_structure(data, indent=0):    \n",
    "            if isinstance(data, dict):\n",
    "                for key, value in data.items():\n",
    "                    print(' ' * indent + str(key))\n",
    "                    if isinstance(value, dict):\n",
    "                        print_structure(value, indent + 4)\n",
    "                    else:\n",
    "                        print(' ' * (indent + 4) + str(type(value).__name__))\n",
    "            else:\n",
    "                print(' ' * indent + str(type(data).__name__))\n",
    "                \n",
    "        print_structure(self.input)\n",
    "\n",
    "\n",
    "\n",
    "\n",
    "    # Testing Methods #\n",
    "    def moo(self):\n",
    "        moo_sound = 'M' + 'o' * random.randint(1, 10)\n",
    "        print(f\"{self.cow_id}: {moo_sound}\")\n",
    "\n",
    "    def matrix_multiplication(self, n):\n",
    "        \"\"\"Perform an intensive computation with matrix multiplications.\"\"\"\n",
    "        start_time = time.time()\n",
    "        # Create large random matrices\n",
    "        A = np.random.rand(n, n)\n",
    "        B = np.random.rand(n, n)\n",
    "        for _ in range(100):\n",
    "            C = np.dot(A, B)\n",
    "        end_time = time.time()\n",
    "        elapsed_time = end_time - start_time\n",
    "        print(f\"Cow {self.cow_id} performed intensive computation in {elapsed_time:.2f} seconds.\")\n",
    "        self.results['time'] = elapsed_time\n",
    "        "
   ]
  },
  {
   "cell_type": "markdown",
   "metadata": {},
   "source": [
    "# Define Herd Class"
   ]
  },
  {
   "cell_type": "code",
   "execution_count": 3,
   "metadata": {},
   "outputs": [],
   "source": [
    "import json\n",
    "import pickle\n",
    "from datetime import datetime\n",
    "\n",
    "class Herd:\n",
    "    def __init__(self, name):\n",
    "        self.name = name\n",
    "        self.cows_in_herd = []\n",
    "        self.model_registry = ModelRegistry()\n",
    "        self.metadata = {}\n",
    "\n",
    "    def __getstate__(self):\n",
    "        state = {\n",
    "            'name': self.name,\n",
    "            'cows_in_herd': self.cows_in_herd,\n",
    "            'model_registry': self.model_registry,\n",
    "            'metadata': self.metadata\n",
    "        }\n",
    "        return state\n",
    "\n",
    "    def __setstate__(self, state):\n",
    "        self.name = state['name']\n",
    "        self.cows_in_herd = state['cows_in_herd']\n",
    "        self.model_registry = state['model_registry']\n",
    "        self.metadata = state['metadata']\n",
    "\n",
    "    def add_cow(self, cow):\n",
    "        self.cows_in_herd.append(cow)\n",
    "\n",
    "    def load_cows_from_json(self, filename):\n",
    "        with open(filename, 'r') as file:\n",
    "            data = json.load(file)\n",
    "            for cow_data in data:\n",
    "                cow = Cow(cow_id=cow_data['cow_id'], \n",
    "                          input_data=cow_data['input_data'])\n",
    "                self.add_cow(cow)\n",
    "\n",
    "    def execute_method(self, method_name, execution_mode='linear', *args, **kwargs):\n",
    "        # NOTE Used for executing methods of the Cow class\n",
    "        if execution_mode == 'linear':\n",
    "            self._execute_linear(method_name, *args, **kwargs)\n",
    "        elif execution_mode == 'cpu':\n",
    "            self._execute_cpu(method_name, *args, **kwargs)\n",
    "        elif execution_mode == 'gpu':\n",
    "            self._execute_gpu(method_name, *args, **kwargs)\n",
    "        else:\n",
    "            raise ValueError(\"Invalid execution mode. Choose from 'linear', 'cpu', or 'gpu'.\")\n",
    "\n",
    "    def _execute_linear(self, method_name, *args, **kwargs):\n",
    "        for cow in self.cows_in_herd:\n",
    "            getattr(cow, method_name)(*args, **kwargs)\n",
    "\n",
    "    def _execute_cpu(self, method_name, *args, **kwargs):\n",
    "        raise NotImplementedError(\"Parallel CPU execution is not implemented yet.\")\n",
    "\n",
    "    def _execute_gpu(self, method_name, *args, **kwargs):\n",
    "        raise NotImplementedError(\"GPU execution is not implemented yet.\")\n",
    "    \n",
    "    def save(self, filename):\n",
    "        with open(filename, 'wb') as file:\n",
    "            pickle.dump(self, file)\n",
    "\n",
    "    @staticmethod\n",
    "    def load(filename):\n",
    "        with open(filename, 'rb') as file:\n",
    "            return pickle.load(file)\n",
    "        \n",
    "    def register_model(self, model_function):\n",
    "        if not self.cows_in_herd:\n",
    "            raise ValueError(\"No cows in the herd to determine the input structure.\")\n",
    "        input_structure = self.cows_in_herd[0].input\n",
    "        self.model_registry.register_model(model_function, input_structure)\n",
    "\n",
    "    def execute_model(self, model_name, execution_mode='linear'):\n",
    "        model_function, input_mapping = self.model_registry.get_model(model_name)\n",
    "        \n",
    "        if execution_mode == 'linear':\n",
    "            self._execute_model_linear(model_function, input_mapping)\n",
    "        elif execution_mode == 'cpu':\n",
    "            self._execute_model_cpu(model_function, input_mapping)\n",
    "        elif execution_mode == 'gpu':\n",
    "            self._execute_model_gpu(model_function, input_mapping)\n",
    "        else:\n",
    "            raise ValueError(\"Invalid execution mode. Choose from 'linear', 'cpu', or 'gpu'.\")\n",
    "\n",
    "    def _execute_model_linear(self, model_function, input_mapping):\n",
    "        start_time = datetime.now()\n",
    "        exceptions = {}\n",
    "\n",
    "        for cow in self.cows_in_herd:\n",
    "            try:\n",
    "                cow.run_model(model_function, input_mapping)\n",
    "            except Exception as e:\n",
    "                exceptions[cow.cow_id] = e\n",
    "        \n",
    "        end_time = datetime.now()\n",
    "        execution_time = (end_time - start_time).total_seconds()\n",
    "                \n",
    "        metadata_entry = {\n",
    "            'model_name': model_function.__name__,\n",
    "            'execution_mode': 'linear',\n",
    "            'start_time': start_time,\n",
    "            'end_time': end_time,\n",
    "            'execution_time_seconds': execution_time,\n",
    "            'errors': exceptions\n",
    "        }\n",
    "        self.metadata[f'{model_function.__name__}_{start_time.date()}'] = metadata_entry\n",
    "        \n",
    "        if exceptions:\n",
    "            print('\\nThe following Cows failed to run the model: ')\n",
    "            for cow_id, execption in exceptions.items():\n",
    "                print(f'{cow_id}: {execption}')\n",
    "\n",
    "    def _execute_model_cpu(self, model_function, input_mapping):\n",
    "        raise NotImplementedError(\"Parallel CPU execution is not implemented yet.\")\n",
    "\n",
    "    def _execute_model_gpu(self, model_function, input_mapping):\n",
    "        raise NotImplementedError(\"GPU execution is not implemented yet.\")\n",
    "\n",
    "    def list_cows(self):\n",
    "        print('Index'.ljust(5), '| Cow ID')\n",
    "        for index, cow in enumerate(self.cows_in_herd):\n",
    "            print(f'{index}'.ljust(5), f'| {cow.cow_id}')\n",
    "\n",
    "    def list_results(self, cow_index):\n",
    "        cow = self.cows_in_herd[cow_index]\n",
    "        cow._list_results()\n",
    "\n",
    "    def get_result(self, cow_index, result_id):\n",
    "        cow = self.cows_in_herd[cow_index]\n",
    "        result = cow._get_result(result_id)\n",
    "        return result\n",
    "\n",
    "    def check_input(self):\n",
    "        cow = self.cows_in_herd[0]\n",
    "        cow._print_input_structure()\n",
    "\n"
   ]
  },
  {
   "cell_type": "markdown",
   "metadata": {},
   "source": [
    "# Test Input Mapping"
   ]
  },
  {
   "cell_type": "code",
   "execution_count": 4,
   "metadata": {},
   "outputs": [
    {
     "name": "stdout",
     "output_type": "stream",
     "text": [
      "Executing test_model in linear mode:\n",
      "\n",
      "The following Cows failed to run the model: \n",
      "cow_3: unsupported operand type(s) for ** or pow(): 'float' and 'str'\n",
      "Cow ID: cow_1, Output: {'test_model_2024-05-27': 2.7777777777777772}\n",
      "Cow ID: cow_2, Output: {'test_model_2024-05-27': 20.796875}\n",
      "Cow ID: cow_3, Output: {}\n"
     ]
    }
   ],
   "source": [
    "def test_model(a, b, c, d):\n",
    "    return (a + b / c) ** d\n",
    "\n",
    "# Create a herd and add cows with nested input data\n",
    "herd = Herd(\"Dairy Herd\")\n",
    "herd.add_cow(Cow(cow_id='cow_1', input_data={'level1': {'a': 1, 'b': 2, 'c': 3, 'd': 2}}))\n",
    "herd.add_cow(Cow(cow_id='cow_2', input_data={'level1': {'a': 2, 'b': 3, 'c': 4, 'd': 3}}))\n",
    "herd.add_cow(Cow(cow_id='cow_3', input_data={'level1': {'a': 3, 'b': 4, 'c': 5, 'd': 'ads'}}))\n",
    "\n",
    "# Register the test_model with automatic input mapping\n",
    "herd.register_model(test_model)\n",
    "\n",
    "# Execute the model in linear mode\n",
    "print(\"Executing test_model in linear mode:\")\n",
    "herd.execute_model('test_model', execution_mode='linear')\n",
    "\n",
    "# Check results\n",
    "for cow in herd.cows_in_herd:\n",
    "    print(f\"Cow ID: {cow.cow_id}, Output: {cow.results}\")\n",
    "                "
   ]
  },
  {
   "cell_type": "code",
   "execution_count": 5,
   "metadata": {},
   "outputs": [
    {
     "name": "stdout",
     "output_type": "stream",
     "text": [
      "Index | Cow ID\n",
      "0     | cow_1\n",
      "1     | cow_2\n",
      "2     | cow_3\n",
      "\n",
      "\n",
      "Result ID                 | Results\n",
      "test_model_2024-05-27     | 2.7777777777777772\n"
     ]
    }
   ],
   "source": [
    "herd.list_cows()\n",
    "print('\\n')\n",
    "herd.list_results(0)\n"
   ]
  },
  {
   "cell_type": "code",
   "execution_count": null,
   "metadata": {},
   "outputs": [],
   "source": [
    "value = herd.get_result(0, 'test_model_2024-05-26')\n",
    "print(value)\n"
   ]
  },
  {
   "cell_type": "code",
   "execution_count": null,
   "metadata": {},
   "outputs": [
    {
     "name": "stdout",
     "output_type": "stream",
     "text": [
      "level1\n",
      "    a\n",
      "        int\n",
      "    b\n",
      "        int\n",
      "    c\n",
      "        int\n",
      "    d\n",
      "        int\n"
     ]
    }
   ],
   "source": [
    "herd.check_input()"
   ]
  },
  {
   "cell_type": "markdown",
   "metadata": {},
   "source": [
    "# Test Cow Herd Interaction"
   ]
  },
  {
   "cell_type": "code",
   "execution_count": 8,
   "metadata": {},
   "outputs": [],
   "source": [
    "test_herd = Herd('test_herd')\n",
    "test_herd.load_cows_from_json('./demo_cows.json')\n",
    "# test_herd.execute_function('moo')\n",
    "# test_herd.execute_function('run_model', 'linear', 'test_model')\n",
    "        "
   ]
  },
  {
   "cell_type": "code",
   "execution_count": null,
   "metadata": {},
   "outputs": [
    {
     "name": "stdout",
     "output_type": "stream",
     "text": [
      "CowID: 1, Input Data: {'age': 2, 'weight': 600, 'milk_yield': 30, 'feed_intake': 25}\n",
      "CowID: 2, Input Data: {'age': 3, 'weight': 650, 'milk_yield': 28, 'feed_intake': 26}\n"
     ]
    }
   ],
   "source": [
    "for cow in test_herd.cows_in_herd:\n",
    "    print(f'CowID: {cow.cow_id}, Input Data: {cow.input}')\n",
    "    "
   ]
  },
  {
   "cell_type": "markdown",
   "metadata": {},
   "source": [
    "### Save to File"
   ]
  },
  {
   "cell_type": "code",
   "execution_count": null,
   "metadata": {},
   "outputs": [],
   "source": [
    "test_herd.save('test_herd.pkl')\n"
   ]
  },
  {
   "cell_type": "markdown",
   "metadata": {},
   "source": [
    "### Load from File"
   ]
  },
  {
   "cell_type": "code",
   "execution_count": null,
   "metadata": {},
   "outputs": [
    {
     "name": "stdout",
     "output_type": "stream",
     "text": [
      "1: Mooooooo\n",
      "2: Moooooooooo\n",
      "CowID: 1, Input Data: {'age': 2, 'weight': 600, 'milk_yield': 30, 'feed_intake': 25}\n",
      "CowID: 2, Input Data: {'age': 3, 'weight': 650, 'milk_yield': 28, 'feed_intake': 26}\n"
     ]
    }
   ],
   "source": [
    "loaded_herd = Herd.load('./test_herd.pkl')\n",
    "loaded_herd.execute_function('moo')\n",
    "for cow in loaded_herd.cows_in_herd:\n",
    "    print(f'CowID: {cow.cow_id}, Input Data: {cow.input}')\n",
    "    \n"
   ]
  }
 ],
 "metadata": {
  "kernelspec": {
   "display_name": "simoolator",
   "language": "python",
   "name": "python3"
  },
  "language_info": {
   "codemirror_mode": {
    "name": "ipython",
    "version": 3
   },
   "file_extension": ".py",
   "mimetype": "text/x-python",
   "name": "python",
   "nbconvert_exporter": "python",
   "pygments_lexer": "ipython3",
   "version": "3.12.3"
  }
 },
 "nbformat": 4,
 "nbformat_minor": 2
}
